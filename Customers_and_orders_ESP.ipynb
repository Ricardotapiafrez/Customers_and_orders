{
 "cells": [
  {
   "cell_type": "markdown",
   "metadata": {
    "id": "ZYkjErcjtlzu"
   },
   "source": [
    "# Desafío técnico: clientes y pedidos: ¡el elemento vital de cualquier negocio!\n",
    "\n",
    "Este cuaderno depende de dos archivos de datos: clients.scv y orders.csv. Estos archivos están alojados en la nube (o Github), por lo que, para simplificar, le proporcionamos el código para descargar y guardar los dos archivos en una carpeta llamada 'sample_data' que se encuentra dentro de esta sesión del cuaderno (no en su computadora local ni en Google Drive).\n",
    "\n",
    "![carpeta sample_data en la sesión del cuaderno](https://raw.githubusercontent.com/anyoneai/notebooks/main/customers_and_orders/images/sample_data_folder.png)\n",
    "\n",
    "Ejecute el primer fragmento de código antes de pasar al resto del ejercicio, ya que este código importará los datos de los archivos para que pueda ejecutar el resto del ejercicio.\n",
    "\n",
    "Recuerda que, como dijimos en la lección anterior, debes guardar este cuaderno en tu Google Drive yendo al menú Archivo/Guardar una copia en Drive o haciendo clic en el botón \"Copiar en Drive\". De esta manera, no perderás ningún trabajo que hayas realizado y el archivo conservará los últimos cambios en tu Google Drive. También te recomendamos que cambies el nombre de tu .ipynb en tu Google Drive, para que puedas encontrarlo fácilmente en el futuro."
   ]
  },
  {
   "cell_type": "code",
   "execution_count": 7,
   "metadata": {
    "colab": {
     "base_uri": "https://localhost:8080/"
    },
    "executionInfo": {
     "elapsed": 664,
     "status": "ok",
     "timestamp": 1737745621269,
     "user": {
      "displayName": "Ricardo Tapia",
      "userId": "11226968442119323490"
     },
     "user_tz": 180
    },
    "id": "MWpVO242FQHC",
    "outputId": "f621ea03-e9a9-4ce4-cc1d-6c1839b99ed5"
   },
   "outputs": [
    {
     "name": "stdout",
     "output_type": "stream",
     "text": [
      "Se han agregado archivos CSV de clientes y pedidos './sample_data'\n"
     ]
    }
   ],
   "source": [
    "import requests\n",
    "\n",
    "def import_data_files():\n",
    "  r = requests.get('https://raw.githubusercontent.com/anyoneai/notebooks/main/customers_and_orders/data/customers.csv')\n",
    "  with open('./sample_data/customers.csv', 'wb') as f:\n",
    "    f.write(r.content)\n",
    "\n",
    "  r = requests.get('https://raw.githubusercontent.com/anyoneai/notebooks/main/customers_and_orders/data/orders.csv')\n",
    "  with open('./sample_data/orders.csv', 'wb') as f:\n",
    "    f.write(r.content)\n",
    "\n",
    "import_data_files()\n",
    "print(\"Se han agregado archivos CSV de clientes y pedidos './sample_data'\")"
   ]
  },
  {
   "cell_type": "markdown",
   "metadata": {
    "id": "v1VUPJbquK6q"
   },
   "source": [
    "# Ejercicio 1: Procesamiento de datos de clientes (dificultad media)\n",
    "\n",
    "Los datos de ejemplo de clientes en el archivo 'customers.csv' tienen solo 5 columnas: CustomerId, Nombre, Apellido, Ciudad y Estado\n",
    "\n",
    "![Ejemplo de datos](https://raw.githubusercontent.com/anyoneai/notebooks/main/customers_and_orders/images/customers.png)\n",
    "\n",
    "Recomendamos enfáticamente que completes la siguiente sección del [Curso de preparación: Introducción a Python](https://colab.research.google.com/github/anyoneai/notebooks/blob/main/python3_crash_course.ipynb):\n",
    "- Sección 7: E/S de archivos (para comprender cómo leer archivos CSV)\n",
    "- Sección 6: Bucle For (para navegar por el contenido del archivo CSV)\n",
    "- Sección 5: Tuplas, listas y diccionarios (para manipular los datos del archivo CSV)\n",
    "\n",
    "Con esto, esperamos que puedas completar este ejercicio con éxito. Aunque si quieres resolver esto con bibliotecas o de cualquier otra forma, eres bienvenido a hacerlo a tu manera.\n",
    "\n",
    "*Sugerencia:* Te recomendamos que mires los datos antes de comenzar.\n",
    "**Si quieres mirar manualmente los datos antes de comenzar, consulta el contenido de los datos [aquí](https://github.com/anyoneai/notebooks/blob/main/customers_and_orders/data/customers.csv).\n",
    "\n",
    "*Sugerencia*: Hay muchas formas de hacer este ejercicio, puedes hacerlo tú mismo, aunque aquí tienes algo de ayuda. Puedes resolver este ejercicio leyendo y analizando archivos CSV, estructurando datos en diccionarios y usando bucles for para navegar por el contenido.\n",
    "\n",
    "*Sugerencia*: Además, ten en cuenta que los datos pueden no estar limpios y es posible que tengas que averiguar cómo manejarlos desde el código, sin tener que modificar la fuente de datos.\n",
    "\n",
    "A continuación se muestran las 5 preguntas que tendrás que responder para aprobar la evaluación:"
   ]
  },
  {
   "cell_type": "markdown",
   "metadata": {
    "id": "LlZnRTIkuew_"
   },
   "source": [
    "**Pregunta 1:** ¿Cuántos clientes hay en el archivo?\n",
    "(Para mayor ayuda, hemos agregado algunos comentarios y un código de inicio para ayudarlo a estructurar la solución)"
   ]
  },
  {
   "cell_type": "code",
   "execution_count": 9,
   "metadata": {
    "colab": {
     "base_uri": "https://localhost:8080/"
    },
    "executionInfo": {
     "elapsed": 253,
     "status": "ok",
     "timestamp": 1737745627786,
     "user": {
      "displayName": "Ricardo Tapia",
      "userId": "11226968442119323490"
     },
     "user_tz": 180
    },
    "id": "11MRRmGfZCeS",
    "outputId": "b1338f94-ec9d-4f90-9c64-d29abe103f21"
   },
   "outputs": [
    {
     "name": "stdout",
     "output_type": "stream",
     "text": [
      "\n",
      "📂 Columnas en ./sample_data/customers.csv:\n",
      "┌──────────────────────────────────────────────┐\n",
      "│ CustomerID, FirstName, LastName, City, State │\n",
      "└──────────────────────────────────────────────┘\n",
      "\n",
      "📂 Columnas en ./sample_data/orders.csv:\n",
      "┌───────────────────────────────────────────────────────────┐\n",
      "│ CustomerID, OrderID, Date, OrderTotal, ProductName, Price │\n",
      "└───────────────────────────────────────────────────────────┘\n",
      "\n",
      "★★★★★★★★★★★★★★★★★★★★★★★★★★★★★★★★★★★★★★★★★★★★★★★★★★\n",
      "🌟 El número total de clientes es: 602\n",
      "★★★★★★★★★★★★★★★★★★★★★★★★★★★★★★★★★★★★★★★★★★★★★★★★★★\n",
      "\n",
      "✅ ¡Todo listo!\n"
     ]
    }
   ],
   "source": [
    "# Importar bibliotecas necesarias\n",
    "import csv\n",
    "from os.path import exists\n",
    "\n",
    "# Ruta del archivo de clientes\n",
    "customers_file = \"./sample_data/customers.csv\"\n",
    "\n",
    "# Comprobar si el archivo existe\n",
    "if not exists(customers_file):\n",
    "    raise SystemExit(\"🚨 ERROR: ¡Debes ejecutar la primera celda de código para descargar los archivos de datos!\")\n",
    "\n",
    "# Función para mostrar los nombres de las columnas\n",
    "def show_column_names(file_path):\n",
    "    with open(file_path, 'r') as fl:\n",
    "        csvreader = csv.reader(fl, delimiter=',')\n",
    "        # Obtener el encabezado (nombres de columnas)\n",
    "        header = next(csvreader)\n",
    "        print(f\"\\n📂 Columnas en {file_path}:\")\n",
    "        print(\"┌\" + \"─\" * (len(', '.join(header)) + 2) + \"┐\")\n",
    "        print(f\"│ {', '.join(header)} │\")\n",
    "        print(\"└\" + \"─\" * (len(', '.join(header)) + 2) + \"┘\")\n",
    "\n",
    "# Mostrar las columnas del archivo customers.csv\n",
    "show_column_names(\"./sample_data/customers.csv\")\n",
    "\n",
    "# Mostrar las columnas del archivo orders.csv\n",
    "show_column_names(\"./sample_data/orders.csv\")\n",
    "\n",
    "# Inicializar un contador para los clientes\n",
    "customer_count = 0\n",
    "\n",
    "# Abrir el archivo CSV y leer las filas\n",
    "with open(customers_file, 'r') as fl:\n",
    "    csvreader = csv.reader(fl, delimiter=',')\n",
    "    # Saltar el encabezado\n",
    "    header = next(csvreader)\n",
    "    # Contar las filas restantes\n",
    "    for row in csvreader:\n",
    "        customer_count += 1\n",
    "\n",
    "# Mostrar el número total de clientes\n",
    "print(\"\\n\" + \"★\" * 50)\n",
    "print(f\"🌟 El número total de clientes es: {customer_count}\")\n",
    "print(\"★\" * 50)\n",
    "\n",
    "print(\"\\n✅ ¡Todo listo!\")\n"
   ]
  },
  {
   "cell_type": "markdown",
   "metadata": {
    "id": "wrsYE7Efvmrm"
   },
   "source": [
    "**Pregunta 2:** ¿En cuántos estados diferentes viven los clientes?"
   ]
  },
  {
   "cell_type": "code",
   "execution_count": 6,
   "metadata": {
    "colab": {
     "base_uri": "https://localhost:8080/"
    },
    "executionInfo": {
     "elapsed": 256,
     "status": "ok",
     "timestamp": 1737745642782,
     "user": {
      "displayName": "Ricardo Tapia",
      "userId": "11226968442119323490"
     },
     "user_tz": 180
    },
    "id": "EgPKEhu6j3K-",
    "outputId": "0b548910-5eb3-4603-b035-1670768ac800"
   },
   "outputs": [
    {
     "name": "stdout",
     "output_type": "stream",
     "text": [
      "\n",
      "==================================================\n",
      "🌎  ANÁLISIS DE ESTADOS EN EL ARCHIVO CSV\n",
      "==================================================\n",
      "📊 Total de estados únicos encontrados: 14\n",
      "📍 Lista de estados únicos:\n",
      "┌────────────────────────────────────────────────┐\n",
      "│ AZ                                             │\n",
      "│ CA                                             │\n",
      "│ CO                                             │\n",
      "│ FL                                             │\n",
      "│ ID                                             │\n",
      "│ IN                                             │\n",
      "│ MA                                             │\n",
      "│ NH                                             │\n",
      "│ NM                                             │\n",
      "│ NV                                             │\n",
      "│ OR                                             │\n",
      "│ TX                                             │\n",
      "│ UT                                             │\n",
      "│ WA                                             │\n",
      "└────────────────────────────────────────────────┘\n",
      "\n",
      "✅ ¡Análisis completado con éxito!\n"
     ]
    }
   ],
   "source": [
    "# Ruta del archivo de clientes\n",
    "customers_file = \"./sample_data/customers.csv\"\n",
    "\n",
    "# Inicializar un conjunto para almacenar los estados únicos\n",
    "unique_states = set()\n",
    "\n",
    "# Abrir el archivo CSV y leer las filas\n",
    "with open(customers_file, 'r') as fl:\n",
    "    csvreader = csv.reader(fl, delimiter=',')\n",
    "\n",
    "    # Saltar el encabezado\n",
    "    header = next(csvreader)\n",
    "\n",
    "    # Identificar la columna de estados\n",
    "    state_index = header.index(\"State\")\n",
    "\n",
    "    # Recopilar estados únicos con normalización\n",
    "    for row in csvreader:\n",
    "        # Normalizar el estado a mayúsculas\n",
    "        state = row[state_index].strip().upper()\n",
    "        unique_states.add(state)\n",
    "\n",
    "# Calcular el número de estados únicos\n",
    "num_states = len(unique_states)\n",
    "\n",
    "# Mostrar el resultado con diseño gráfico\n",
    "print(\"\\n\" + \"=\" * 50)\n",
    "print(\"🌎  ANÁLISIS DE ESTADOS EN EL ARCHIVO CSV\")\n",
    "print(\"=\" * 50)\n",
    "print(f\"📊 Total de estados únicos encontrados: {num_states}\")\n",
    "print(\"📍 Lista de estados únicos:\")\n",
    "print(\"┌\" + \"─\" * 48 + \"┐\")\n",
    "for state in sorted(unique_states):\n",
    "    print(f\"│ {state.ljust(46)} │\")\n",
    "print(\"└\" + \"─\" * 48 + \"┘\")\n",
    "print(\"\\n✅ ¡Análisis completado con éxito!\")"
   ]
  },
  {
   "cell_type": "markdown",
   "metadata": {
    "id": "3ZPAnZjbwo61"
   },
   "source": [
    "**Pregunta 3** ¿Cuál es el estado con la mayoría de los clientes?"
   ]
  },
  {
   "cell_type": "code",
   "execution_count": 7,
   "metadata": {
    "colab": {
     "base_uri": "https://localhost:8080/"
    },
    "executionInfo": {
     "elapsed": 261,
     "status": "ok",
     "timestamp": 1737745652382,
     "user": {
      "displayName": "Ricardo Tapia",
      "userId": "11226968442119323490"
     },
     "user_tz": 180
    },
    "id": "PmyOCJ1ZlPev",
    "outputId": "991b2b29-3d79-4444-ef19-52827e47cb5b"
   },
   "outputs": [
    {
     "name": "stdout",
     "output_type": "stream",
     "text": [
      "\n",
      "==================================================\n",
      "🌎  ANÁLISIS DE CLIENTES POR ESTADO\n",
      "==================================================\n",
      "🏆 Estado con más clientes: CA\n",
      "👥 Número de clientes: 569\n",
      "\n",
      "📊 Distribución completa de clientes por estado:\n",
      "┌──────────────────────────────┬───────────────┐\n",
      "│ Estado                         │      Clientes │\n",
      "├──────────────────────────────┼───────────────┤\n",
      "│ CA                             │           569 │\n",
      "│ NV                             │             8 │\n",
      "│ AZ                             │             6 │\n",
      "│ FL                             │             3 │\n",
      "│ CO                             │             3 │\n",
      "│ NM                             │             3 │\n",
      "│ TX                             │             2 │\n",
      "│ UT                             │             2 │\n",
      "│ WA                             │             1 │\n",
      "│ NH                             │             1 │\n",
      "│ ID                             │             1 │\n",
      "│ OR                             │             1 │\n",
      "│ MA                             │             1 │\n",
      "│ IN                             │             1 │\n",
      "└──────────────────────────────┴───────────────┘\n",
      "\n",
      "✅ ¡Análisis completado con éxito!\n"
     ]
    }
   ],
   "source": [
    "# Importar bibliotecas necesarias\n",
    "from collections import Counter\n",
    "\n",
    "# Ruta del archivo de clientes\n",
    "customers_file = \"./sample_data/customers.csv\"\n",
    "\n",
    "# Inicializar un contador para los estados\n",
    "state_counter = Counter()\n",
    "\n",
    "# Abrir el archivo CSV y contar los estados\n",
    "with open(customers_file, 'r') as fl:\n",
    "    csvreader = csv.reader(fl, delimiter=',')\n",
    "\n",
    "    # Saltar el encabezado\n",
    "    header = next(csvreader)\n",
    "\n",
    "    # Identificar el índice de la columna \"State\"\n",
    "    state_index = header.index(\"State\")\n",
    "\n",
    "    # Contar las ocurrencias de cada estado, normalizando a mayúsculas\n",
    "    for row in csvreader:\n",
    "        state = row[state_index].strip().upper()  # Normalizar el estado\n",
    "        state_counter[state] += 1\n",
    "\n",
    "# Encontrar el estado con más clientes\n",
    "most_common_state = state_counter.most_common(1)[0]  # Devuelve (estado, número de clientes)\n",
    "\n",
    "# Mostrar el resultado con diseño gráfico\n",
    "print(\"\\n\" + \"=\" * 50)\n",
    "print(\"🌎  ANÁLISIS DE CLIENTES POR ESTADO\")\n",
    "print(\"=\" * 50)\n",
    "print(f\"🏆 Estado con más clientes: {most_common_state[0]}\")\n",
    "print(f\"👥 Número de clientes: {most_common_state[1]}\")\n",
    "\n",
    "# Mostrar la distribución completa de clientes por estado\n",
    "print(\"\\n📊 Distribución completa de clientes por estado:\")\n",
    "print(\"┌\" + \"─\" * 30 + \"┬\" + \"─\" * 15 + \"┐\")\n",
    "print(f\"│ {'Estado'.ljust(30)} │ {'Clientes'.rjust(13)} │\")\n",
    "print(\"├\" + \"─\" * 30 + \"┼\" + \"─\" * 15 + \"┤\")\n",
    "for state, count in state_counter.most_common():\n",
    "    print(f\"│ {state.ljust(30)} │ {str(count).rjust(13)} │\")\n",
    "print(\"└\" + \"─\" * 30 + \"┴\" + \"─\" * 15 + \"┘\")\n",
    "print(\"\\n✅ ¡Análisis completado con éxito!\")\n"
   ]
  },
  {
   "cell_type": "markdown",
   "metadata": {
    "id": "uR7ADG6txFUB"
   },
   "source": [
    "**Pregunta 4** ¿Cuál es el estado con menos clientes?"
   ]
  },
  {
   "cell_type": "code",
   "execution_count": 8,
   "metadata": {
    "colab": {
     "base_uri": "https://localhost:8080/"
    },
    "executionInfo": {
     "elapsed": 268,
     "status": "ok",
     "timestamp": 1737745865606,
     "user": {
      "displayName": "Ricardo Tapia",
      "userId": "11226968442119323490"
     },
     "user_tz": 180
    },
    "id": "a4AJpEFEaz5d",
    "outputId": "443b460f-b453-4ab9-a46f-089ea8db8f06"
   },
   "outputs": [
    {
     "name": "stdout",
     "output_type": "stream",
     "text": [
      "\n",
      "==================================================\n",
      "🌟  ANÁLISIS DE CLIENTES POR ESTADO\n",
      "==================================================\n",
      "🏅 Estado con menor número de clientes: WA\n",
      "👥 Número de clientes: 1\n",
      "\n",
      "📊 Distribución completa de clientes por estado:\n",
      "┌──────────────────────────────┬───────────────┐\n",
      "│ Estado                         │      Clientes │\n",
      "├──────────────────────────────┼───────────────┤\n",
      "│ CA                             │           569 │\n",
      "│ NV                             │             8 │\n",
      "│ AZ                             │             6 │\n",
      "│ FL                             │             3 │\n",
      "│ CO                             │             3 │\n",
      "│ NM                             │             3 │\n",
      "│ TX                             │             2 │\n",
      "│ UT                             │             2 │\n",
      "│ WA                             │             1 │\n",
      "│ NH                             │             1 │\n",
      "│ ID                             │             1 │\n",
      "│ OR                             │             1 │\n",
      "│ MA                             │             1 │\n",
      "│ IN                             │             1 │\n",
      "└──────────────────────────────┴───────────────┘\n",
      "\n",
      "✅ ¡Análisis completado con éxito!\n"
     ]
    }
   ],
   "source": [
    "# Importar bibliotecas necesarias\n",
    "from collections import Counter\n",
    "\n",
    "# Ruta del archivo de clientes\n",
    "customers_file = \"./sample_data/customers.csv\"\n",
    "\n",
    "# Inicializar un contador para los estados\n",
    "state_counter = Counter()\n",
    "\n",
    "# Abrir el archivo CSV y contar los estados\n",
    "with open(customers_file, 'r') as fl:\n",
    "    csvreader = csv.reader(fl, delimiter=',')\n",
    "\n",
    "    # Saltar el encabezado\n",
    "    header = next(csvreader)\n",
    "\n",
    "    # Identificar el índice de la columna \"State\"\n",
    "    state_index = header.index(\"State\")\n",
    "\n",
    "    # Contar las ocurrencias de cada estado, normalizando a mayúsculas\n",
    "    for row in csvreader:\n",
    "        state = row[state_index].strip().upper()  # Normalizar el estado\n",
    "        state_counter[state] += 1\n",
    "\n",
    "# Encontrar el estado con menos clientes\n",
    "least_common_state = min(state_counter.items(), key=lambda x: x[1])  # Devuelve (estado, número de clientes)\n",
    "\n",
    "# Mostrar el resultado con diseño gráfico\n",
    "print(\"\\n\" + \"=\" * 50)\n",
    "print(\"🌟  ANÁLISIS DE CLIENTES POR ESTADO\")\n",
    "print(\"=\" * 50)\n",
    "print(f\"🏅 Estado con menor número de clientes: {least_common_state[0]}\")\n",
    "print(f\"👥 Número de clientes: {least_common_state[1]}\")\n",
    "print(\"\\n📊 Distribución completa de clientes por estado:\")\n",
    "print(\"┌\" + \"─\" * 30 + \"┬\" + \"─\" * 15 + \"┐\")\n",
    "print(f\"│ {'Estado'.ljust(30)} │ {'Clientes'.rjust(13)} │\")\n",
    "print(\"├\" + \"─\" * 30 + \"┼\" + \"─\" * 15 + \"┤\")\n",
    "for state, count in state_counter.most_common():\n",
    "    print(f\"│ {state.ljust(30)} │ {str(count).rjust(13)} │\")\n",
    "print(\"└\" + \"─\" * 30 + \"┴\" + \"─\" * 15 + \"┘\")\n",
    "print(\"\\n✅ ¡Análisis completado con éxito!\")"
   ]
  },
  {
   "cell_type": "markdown",
   "metadata": {
    "id": "PDc1KRx9xo_p"
   },
   "source": [
    "Pregunta 5: ¿Cuál es el apellido más común?"
   ]
  },
  {
   "cell_type": "code",
   "execution_count": 9,
   "metadata": {
    "colab": {
     "base_uri": "https://localhost:8080/"
    },
    "executionInfo": {
     "elapsed": 245,
     "status": "ok",
     "timestamp": 1737745874614,
     "user": {
      "displayName": "Ricardo Tapia",
      "userId": "11226968442119323490"
     },
     "user_tz": 180
    },
    "id": "OHbzcQDtbSEl",
    "outputId": "36cb6905-e648-49e6-ac53-15a217a8a182"
   },
   "outputs": [
    {
     "name": "stdout",
     "output_type": "stream",
     "text": [
      "\n",
      "==================================================\n",
      "🌟  ANÁLISIS DE APELLIDOS EN EL REGISTRO\n",
      "==================================================\n",
      "🏅 Apellido más común: Smith\n",
      "👥 Número de apariciones: 8\n",
      "\n",
      "📊 Distribución completa de apellidos:\n",
      "┌──────────────────────────────┬───────────────┐\n",
      "│ Apellido                       │   Apariciones │\n",
      "├──────────────────────────────┼───────────────┤\n",
      "│ Smith                          │             8 │\n",
      "│ Gomez                          │             5 │\n",
      "│ Zambrana                       │             5 │\n",
      "│ Doggett                        │             5 │\n",
      "│ Huynh                          │             4 │\n",
      "│ Rocha                          │             4 │\n",
      "│ Reyes                          │             4 │\n",
      "│ McMahon                        │             4 │\n",
      "│ Garcia                         │             4 │\n",
      "│ Gonzalez                       │             4 │\n",
      "└──────────────────────────────┴───────────────┘\n",
      "\n",
      "✅ ¡Análisis completado con éxito!\n"
     ]
    }
   ],
   "source": [
    "# Importar bibliotecas necesarias\n",
    "from collections import Counter\n",
    "\n",
    "# Ruta del archivo de clientes\n",
    "customers_file = \"./sample_data/customers.csv\"\n",
    "\n",
    "# Inicializar un contador para los apellidos\n",
    "last_name_counter = Counter()\n",
    "\n",
    "# Abrir el archivo CSV y contar los apellidos\n",
    "with open(customers_file, 'r') as fl:\n",
    "    csvreader = csv.reader(fl, delimiter=',')\n",
    "\n",
    "    # Saltar el encabezado\n",
    "    header = next(csvreader)\n",
    "\n",
    "    # Identificar el índice de la columna \"LastName\"\n",
    "    last_name_index = header.index(\"LastName\")\n",
    "\n",
    "    # Contar las ocurrencias de cada apellido\n",
    "    for row in csvreader:\n",
    "        last_name_counter[row[last_name_index]] += 1\n",
    "\n",
    "# Encontrar el apellido más común\n",
    "most_common_last_name = last_name_counter.most_common(1)[0]  # Devuelve (apellido, número de apariciones)\n",
    "\n",
    "# Mostrar el resultado con diseño gráfico\n",
    "print(\"\\n\" + \"=\" * 50)\n",
    "print(\"🌟  ANÁLISIS DE APELLIDOS EN EL REGISTRO\")\n",
    "print(\"=\" * 50)\n",
    "print(f\"🏅 Apellido más común: {most_common_last_name[0]}\")\n",
    "print(f\"👥 Número de apariciones: {most_common_last_name[1]}\")\n",
    "print(\"\\n📊 Distribución completa de apellidos:\")\n",
    "print(\"┌\" + \"─\" * 30 + \"┬\" + \"─\" * 15 + \"┐\")\n",
    "print(f\"│ {'Apellido'.ljust(30)} │ {'Apariciones'.rjust(13)} │\")\n",
    "print(\"├\" + \"─\" * 30 + \"┼\" + \"─\" * 15 + \"┤\")\n",
    "for last_name, count in last_name_counter.most_common(10):  # Mostrar los 10 apellidos más comunes\n",
    "    print(f\"│ {last_name.ljust(30)} │ {str(count).rjust(13)} │\")\n",
    "print(\"└\" + \"─\" * 30 + \"┴\" + \"─\" * 15 + \"┘\")\n",
    "print(\"\\n✅ ¡Análisis completado con éxito!\")"
   ]
  },
  {
   "cell_type": "markdown",
   "metadata": {
    "id": "pODCJ14rxqyS"
   },
   "source": []
  },
  {
   "cell_type": "markdown",
   "metadata": {
    "id": "cIIfygD3yEtt"
   },
   "source": [
    "# Ejercicio 2: Procesamiento de datos de pedidos (dificultad alta)\n",
    "\n",
    "El segundo archivo de muestra contiene los pedidos realizados por los clientes del primer archivo. Tenga cuidado, este archivo tiene muchas filas y es muy probable que no deba imprimir el contenido de todo el archivo.\n",
    "\n",
    "El archivo contiene las siguientes columnas: CustomerID, OrderID, Date, OrderTotal, ProductName, Price\n",
    "\n",
    "![Ejemplo de datos](https://raw.githubusercontent.com/anyoneai/notebooks/main/customers_and_orders/images/orders.png)\n",
    "\n",
    "*Sugerencia:* Le recomendamos que eche un vistazo a los datos antes de comenzar.\n",
    "**Si desea echar un vistazo manualmente a los datos antes de comenzar, consulte el contenido de los datos [aquí](https://raw.githubusercontent.com/anyoneai/notebooks/main/customers_and_orders/data/orders.csv).\n",
    "\n",
    "*Sugerencia*: Hay muchas formas de hacer este ejercicio, puede hacerlo usted mismo, aunque aquí tiene algo de ayuda. Puedes resolver este ejercicio leyendo y analizando archivos CSV, estructurando datos en diccionarios y usando bucles for para navegar por el contenido.\n",
    "\n",
    "*Pista*: Además, los datos no están limpios y tendrás que averiguar cómo manejarlos desde el código, sin tener que modificar la fuente de datos.\n",
    "\n",
    "**Pregunta n.° 1:** ¿Cuántos pedidos únicos hay en el archivo orders.csv?\n",
    "\n",
    "**Pregunta n.° 2:** ¿Cuál es la cantidad promedio de artículos por pedido (redondeada a dos decimales)?\n",
    "\n",
    "**Pregunta n.° 3:** ¿Cuál es la mayor cantidad de artículos por pedido?\n",
    "\n",
    "**Pregunta n.° 4:** ¿Cuál es la cantidad de pedidos realizados en octubre de 2021?\n",
    "\n",
    "**Pregunta n.° 5:** ¿Qué cliente gastó la mayor cantidad de dinero en 2021?\n",
    "\n",
    "**Pregunta n.° 6:** Históricamente, ¿cuál es el mejor mes para las ventas?\n",
    "\n",
    "Una vez que obtengas tus respuestas, recuerda volver al curso y presentarlas en el cuestionario de opción múltiple"
   ]
  },
  {
   "cell_type": "code",
   "execution_count": 10,
   "metadata": {
    "colab": {
     "base_uri": "https://localhost:8080/"
    },
    "executionInfo": {
     "elapsed": 249,
     "status": "ok",
     "timestamp": 1737745931550,
     "user": {
      "displayName": "Ricardo Tapia",
      "userId": "11226968442119323490"
     },
     "user_tz": 180
    },
    "id": "wSM8VFLpbw_F",
    "outputId": "5ff0a248-4364-4b39-a435-8abe958a24f8"
   },
   "outputs": [
    {
     "name": "stdout",
     "output_type": "stream",
     "text": [
      "\n",
      "============================================================\n",
      "📦  REVISIÓN DEL ARCHIVO DE ÓRDENES\n",
      "============================================================\n",
      "🔑 Columnas encontradas: CustomerID, OrderID, Date, OrderTotal, ProductName, Price\n",
      "============================================================\n",
      "🔍 Primeras 5 filas del archivo:\n",
      "\n",
      "┌──────────┬──────────────────────────────────────────────────────────────────────────────────────────┐\n",
      "│   Fila #   │               CustomerID | OrderID | Date | OrderTotal | ProductName | Price               │\n",
      "├──────────┼──────────────────────────────────────────────────────────────────────────────────────────┤\n",
      "│     1      │             8091 | 7742581 | 2021-07-26 14:40:10.783 | 95.0000 | Z03 | 90.0000             │\n",
      "│     2      │         902139 | 7742778 | 2021-08-08 05:01:21.120 | 60.0000 | 0844 A/C | 60.0000          │\n",
      "│     3      │           2300266 | 7742593 | 2021-07-27 11:00:16.020 | 185.0000 | M07 | 90.0000           │\n",
      "│     4      │           2300266 | 7742593 | 2021-07-27 11:00:16.020 | 185.0000 | M09 | 90.0000           │\n",
      "│     5      │          5173013 | 7742609 | 2021-07-28 14:26:13.930 | 165.0000 | 0324 | 160.0000          │\n",
      "└──────────┴──────────────────────────────────────────────────────────────────────────────────────────┘\n",
      "\n",
      "✅ ¡Revisión completada con éxito!\n"
     ]
    }
   ],
   "source": [
    "# Ruta del archivo de órdenes\n",
    "orders_file = \"./sample_data/orders.csv\"\n",
    "\n",
    "# Leer y mostrar los datos\n",
    "with open(orders_file, 'r') as fl:\n",
    "    csvreader = csv.reader(fl, delimiter=',')\n",
    "\n",
    "    # Leer el encabezado\n",
    "    header = next(csvreader)\n",
    "\n",
    "    # Encabezado gráfico\n",
    "    print(\"\\n\" + \"=\" * 60)\n",
    "    print(\"📦  REVISIÓN DEL ARCHIVO DE ÓRDENES\")\n",
    "    print(\"=\" * 60)\n",
    "    print(f\"🔑 Columnas encontradas: {', '.join(header)}\")\n",
    "    print(\"=\" * 60)\n",
    "\n",
    "    # Mostrar las primeras 5 filas\n",
    "    print(\"🔍 Primeras 5 filas del archivo:\\n\")\n",
    "    print(\"┌\" + \"─\" * 10 + \"┬\" + \"─\" * (len(header) * 15) + \"┐\")\n",
    "    print(f\"│ {'Fila #'.center(10)} │ {' | '.join(header).center(len(header) * 15)} │\")\n",
    "    print(\"├\" + \"─\" * 10 + \"┼\" + \"─\" * (len(header) * 15) + \"┤\")\n",
    "\n",
    "    for i, row in enumerate(csvreader):\n",
    "        if i < 5:\n",
    "            print(f\"│ {str(i+1).center(10)} │ {' | '.join(row).center(len(header) * 15)} │\")\n",
    "        else:\n",
    "            break\n",
    "\n",
    "    print(\"└\" + \"─\" * 10 + \"┴\" + \"─\" * (len(header) * 15) + \"┘\")\n",
    "    print(\"\\n✅ ¡Revisión completada con éxito!\")\n"
   ]
  },
  {
   "cell_type": "markdown",
   "metadata": {
    "id": "1hemGf1D4G6k"
   },
   "source": [
    "**Pregunta n.° 1:** ¿Cuántos pedidos únicos hay en el archivo orders.csv?"
   ]
  },
  {
   "cell_type": "code",
   "execution_count": null,
   "metadata": {
    "colab": {
     "base_uri": "https://localhost:8080/"
    },
    "executionInfo": {
     "elapsed": 269,
     "status": "ok",
     "timestamp": 1737676755428,
     "user": {
      "displayName": "Ricardo Tapia",
      "userId": "11226968442119323490"
     },
     "user_tz": 180
    },
    "id": "amwFeHOzcTJx",
    "outputId": "b1bf22fb-08ed-4019-9462-a98b687d7cc8"
   },
   "outputs": [
    {
     "name": "stdout",
     "output_type": "stream",
     "text": [
      "\n",
      "============================================================\n",
      "📋  ANÁLISIS DE PEDIDOS ÚNICOS  📋\n",
      "============================================================\n",
      "🔑 Total de pedidos únicos encontrados: 16672\n",
      "============================================================\n",
      "🎉 ¡Análisis completado! 🎉\n",
      "============================================================\n"
     ]
    }
   ],
   "source": [
    "# Ruta del archivo de órdenes\n",
    "orders_file = \"./sample_data/orders.csv\"\n",
    "\n",
    "# Inicializar un conjunto para almacenar los IDs de pedidos únicos\n",
    "unique_order_ids = set()\n",
    "\n",
    "# Leer el archivo CSV y extraer los IDs de pedidos\n",
    "with open(orders_file, 'r') as fl:\n",
    "    csvreader = csv.reader(fl, delimiter=',')\n",
    "\n",
    "    # Saltar el encabezado\n",
    "    header = next(csvreader)\n",
    "\n",
    "    # Identificar el índice de la columna \"OrderID\"\n",
    "    order_id_index = header.index(\"OrderID\")\n",
    "\n",
    "    # Agregar cada OrderID al conjunto\n",
    "    for row in csvreader:\n",
    "        unique_order_ids.add(row[order_id_index])\n",
    "\n",
    "# Contar el número de pedidos únicos\n",
    "num_unique_orders = len(unique_order_ids)\n",
    "\n",
    "# Mostrar el resultado con diseño gráfico\n",
    "print(\"\\n\" + \"=\" * 60)\n",
    "print(\"📋  ANÁLISIS DE PEDIDOS ÚNICOS  📋\")\n",
    "print(\"=\" * 60)\n",
    "print(f\"🔑 Total de pedidos únicos encontrados: {num_unique_orders}\")\n",
    "print(\"=\" * 60)\n",
    "print(f\"🎉 ¡Análisis completado! 🎉\")\n",
    "print(\"=\" * 60)"
   ]
  },
  {
   "cell_type": "markdown",
   "metadata": {
    "id": "DdaCt1XB4QCx"
   },
   "source": [
    "**Pregunta n.° 2:** ¿Cuál es la cantidad promedio de artículos por pedido (redondeada a dos decimales)?"
   ]
  },
  {
   "cell_type": "code",
   "execution_count": 11,
   "metadata": {
    "colab": {
     "base_uri": "https://localhost:8080/"
    },
    "executionInfo": {
     "elapsed": 251,
     "status": "ok",
     "timestamp": 1737745945542,
     "user": {
      "displayName": "Ricardo Tapia",
      "userId": "11226968442119323490"
     },
     "user_tz": 180
    },
    "id": "KuAaMUDGngv7",
    "outputId": "e307f427-a4ea-4c72-a206-30eedeffe9f3"
   },
   "outputs": [
    {
     "name": "stdout",
     "output_type": "stream",
     "text": [
      "\n",
      "============================================================\n",
      "📦  ANÁLISIS DE ÓRDENES Y ARTÍCULOS\n",
      "============================================================\n",
      "📋 Total de órdenes procesadas: 29294\n",
      "🛒 Total de artículos en todas las órdenes: 29294\n",
      "🔢 Promedio de artículos por orden: 1.00\n",
      "============================================================\n",
      "✅ ¡Cálculo completado exitosamente! ✅\n",
      "============================================================\n"
     ]
    }
   ],
   "source": [
    "# Ruta del archivo de órdenes\n",
    "orders_file = \"./sample_data/orders.csv\"\n",
    "\n",
    "# Inicializar variables para el total de artículos y el número de pedidos\n",
    "total_items = 0\n",
    "total_orders = 0\n",
    "\n",
    "# Leer el archivo CSV y contar los artículos por pedido\n",
    "with open(orders_file, 'r') as fl:\n",
    "    csvreader = csv.reader(fl, delimiter=',')\n",
    "\n",
    "    # Saltar el encabezado\n",
    "    header = next(csvreader)\n",
    "\n",
    "    # Identificar los índices de las columnas \"OrderID\" y \"ProductName\"\n",
    "    order_id_index = header.index(\"OrderID\")\n",
    "    product_name_index = header.index(\"ProductName\")\n",
    "\n",
    "    # Contar los artículos por pedido\n",
    "    for row in csvreader:\n",
    "        total_orders += 1\n",
    "        total_items += 1  # Cada fila representa un artículo en un pedido\n",
    "\n",
    "# Calcular la cantidad promedio de artículos por pedido\n",
    "average_items_per_order = total_items / total_orders\n",
    "\n",
    "# Mostrar el resultado con diseño gráfico\n",
    "print(\"\\n\" + \"=\" * 60)\n",
    "print(\"📦  ANÁLISIS DE ÓRDENES Y ARTÍCULOS\")\n",
    "print(\"=\" * 60)\n",
    "print(f\"📋 Total de órdenes procesadas: {total_orders}\")\n",
    "print(f\"🛒 Total de artículos en todas las órdenes: {total_items}\")\n",
    "print(f\"🔢 Promedio de artículos por orden: {average_items_per_order:.2f}\")\n",
    "print(\"=\" * 60)\n",
    "print(\"✅ ¡Cálculo completado exitosamente! ✅\")\n",
    "print(\"=\" * 60)\n"
   ]
  },
  {
   "cell_type": "markdown",
   "metadata": {
    "id": "qvyK8Yly4ekl"
   },
   "source": [
    "**Pregunta #3:** ¿Cuál es la cantidad máxima de artículos por pedido?"
   ]
  },
  {
   "cell_type": "code",
   "execution_count": null,
   "metadata": {
    "colab": {
     "base_uri": "https://localhost:8080/"
    },
    "executionInfo": {
     "elapsed": 301,
     "status": "ok",
     "timestamp": 1737677008667,
     "user": {
      "displayName": "Ricardo Tapia",
      "userId": "11226968442119323490"
     },
     "user_tz": 180
    },
    "id": "dBd9YON1dhX5",
    "outputId": "4bde2d39-a415-456b-b038-98c7d6c5358d"
   },
   "outputs": [
    {
     "name": "stdout",
     "output_type": "stream",
     "text": [
      "\n",
      "============================================================\n",
      "🛒  ANÁLISIS DE ÓRDENES  🛒\n",
      "============================================================\n",
      "📦 Total de pedidos analizados: 16672\n",
      "📈 Mayor cantidad de artículos en un solo pedido: 35\n",
      "============================================================\n",
      "✅ ¡Análisis completado exitosamente! ✅\n",
      "============================================================\n"
     ]
    }
   ],
   "source": [
    "# Importar bibliotecas necesarias\n",
    "from collections import defaultdict\n",
    "\n",
    "# Ruta del archivo de órdenes\n",
    "orders_file = \"./sample_data/orders.csv\"\n",
    "\n",
    "# Inicializar un diccionario para contar la cantidad de artículos por cada OrderID\n",
    "order_item_count = defaultdict(int)\n",
    "\n",
    "# Abrir el archivo CSV y contar los artículos por pedido\n",
    "with open(orders_file, 'r') as fl:\n",
    "    csvreader = csv.reader(fl, delimiter=',')\n",
    "\n",
    "    # Saltar el encabezado\n",
    "    header = next(csvreader)\n",
    "\n",
    "    # Identificar el índice de la columna \"OrderID\"\n",
    "    order_id_index = header.index(\"OrderID\")\n",
    "\n",
    "    # Contar los artículos por pedido\n",
    "    for row in csvreader:\n",
    "        order_item_count[row[order_id_index]] += 1\n",
    "\n",
    "# Encontrar la mayor cantidad de artículos por pedido\n",
    "max_items_per_order = max(order_item_count.values())\n",
    "\n",
    "# Mostrar el resultado con diseño gráfico\n",
    "print(\"\\n\" + \"=\" * 60)\n",
    "print(\"🛒  ANÁLISIS DE ÓRDENES  🛒\")\n",
    "print(\"=\" * 60)\n",
    "print(f\"📦 Total de pedidos analizados: {len(order_item_count)}\")\n",
    "print(f\"📈 Mayor cantidad de artículos en un solo pedido: {max_items_per_order}\")\n",
    "print(\"=\" * 60)\n",
    "print(\"✅ ¡Análisis completado exitosamente! ✅\")\n",
    "print(\"=\" * 60)"
   ]
  },
  {
   "cell_type": "markdown",
   "metadata": {
    "id": "-M-stVjJ4hnY"
   },
   "source": [
    "**Pregunta #4:** ¿Cuál es el número de pedidos realizados en octubre de 2021?"
   ]
  },
  {
   "cell_type": "code",
   "execution_count": 13,
   "metadata": {
    "colab": {
     "base_uri": "https://localhost:8080/"
    },
    "executionInfo": {
     "elapsed": 914,
     "status": "ok",
     "timestamp": 1737745982461,
     "user": {
      "displayName": "Ricardo Tapia",
      "userId": "11226968442119323490"
     },
     "user_tz": 180
    },
    "id": "iOxCnK_neud9",
    "outputId": "ea67911e-add0-4f95-807b-0ee8b04e8a81"
   },
   "outputs": [
    {
     "name": "stdout",
     "output_type": "stream",
     "text": [
      "\n",
      "============================================================\n",
      "📅  ANÁLISIS DE PEDIDOS EN OCTUBRE 2021\n",
      "============================================================\n",
      "🍂 Pedidos realizados en octubre de 2021: 437\n",
      "============================================================\n",
      "✅ ¡Análisis completado exitosamente!\n",
      "============================================================\n"
     ]
    }
   ],
   "source": [
    "# Importar bibliotecas necesarias\n",
    "from datetime import datetime\n",
    "\n",
    "# Ruta del archivo de órdenes\n",
    "orders_file = \"./sample_data/orders.csv\"\n",
    "\n",
    "# Inicializar un contador para los pedidos en octubre de 2021\n",
    "october_orders_count = 0\n",
    "\n",
    "# Abrir el archivo CSV y procesar los pedidos\n",
    "with open(orders_file, 'r') as fl:\n",
    "    csvreader = csv.reader(fl, delimiter=',')\n",
    "\n",
    "    # Saltar el encabezado\n",
    "    header = next(csvreader)\n",
    "\n",
    "    # Identificar el índice de la columna \"Date\"\n",
    "    date_index = header.index(\"Date\")\n",
    "\n",
    "    # Filtrar y contar los pedidos realizados en octubre de 2021\n",
    "    for row in csvreader:\n",
    "        order_date = row[date_index]\n",
    "\n",
    "        # Convertir la fecha a un objeto datetime\n",
    "        try:\n",
    "            order_date_obj = datetime.strptime(order_date, \"%Y-%m-%d %H:%M:%S.%f\")\n",
    "\n",
    "            # Verificar si la fecha es de octubre de 2021\n",
    "            if order_date_obj.strftime(\"%Y-%m\") == \"2021-10\":\n",
    "                october_orders_count += 1\n",
    "        except ValueError:\n",
    "            # Manejar posibles errores de formato de fecha\n",
    "            continue\n",
    "\n",
    "# Mostrar la cantidad de pedidos realizados en octubre de 2021 con diseño gráfico\n",
    "print(\"\\n\" + \"=\" * 60)\n",
    "print(\"📅  ANÁLISIS DE PEDIDOS EN OCTUBRE 2021\")\n",
    "print(\"=\" * 60)\n",
    "# print(f\"🔍 Total de pedidos procesados: {len(header) - 1}\")\n",
    "print(f\"🍂 Pedidos realizados en octubre de 2021: {october_orders_count}\")\n",
    "print(\"=\" * 60)\n",
    "print(\"✅ ¡Análisis completado exitosamente!\")\n",
    "print(\"=\" * 60)"
   ]
  },
  {
   "cell_type": "markdown",
   "metadata": {
    "id": "UsW34B9y4mWh"
   },
   "source": [
    "**Pregunta n.° 5:** ¿Qué cliente gastó la mayor cantidad de dinero en 2021?"
   ]
  },
  {
   "cell_type": "code",
   "execution_count": 15,
   "metadata": {
    "colab": {
     "base_uri": "https://localhost:8080/"
    },
    "executionInfo": {
     "elapsed": 824,
     "status": "ok",
     "timestamp": 1737746008341,
     "user": {
      "displayName": "Ricardo Tapia",
      "userId": "11226968442119323490"
     },
     "user_tz": 180
    },
    "id": "JOUvPICLsSmZ",
    "outputId": "b8922b71-ffdf-424d-9e25-63bcab64bd81"
   },
   "outputs": [
    {
     "name": "stdout",
     "output_type": "stream",
     "text": [
      "\n",
      "❌ Clientes con fechas vacías: 57\n",
      "Cliente: Teresa Ascolese (ID: 5014) - Fechas vacías: 90 pedidos omitidos\n",
      "Cliente: Maureen Amato Mayes (ID: 5068) - Fechas vacías: 46 pedidos omitidos\n",
      "Cliente: Doe Harris (ID: 5053) - Fechas vacías: 42 pedidos omitidos\n",
      "Cliente: Merrily Morris (ID: 5955) - Fechas vacías: 57 pedidos omitidos\n",
      "Cliente: Todd Johnson (ID: 5572) - Fechas vacías: 87 pedidos omitidos\n",
      "Cliente: Stephen Cohn (ID: 5889) - Fechas vacías: 29 pedidos omitidos\n",
      "Cliente: Andre Tabak (ID: 7812) - Fechas vacías: 20 pedidos omitidos\n",
      "Cliente: Mary Scates Johnson (ID: 5774) - Fechas vacías: 29 pedidos omitidos\n",
      "Cliente: Craig Thompson (ID: 5971) - Fechas vacías: 87 pedidos omitidos\n",
      "Cliente: Edna Fabbro (ID: 5756) - Fechas vacías: 29 pedidos omitidos\n",
      "Cliente: Janet Hyatt (ID: 5721) - Fechas vacías: 26 pedidos omitidos\n",
      "Cliente: Nicki Huard (ID: 5076) - Fechas vacías: 43 pedidos omitidos\n",
      "Cliente: Richard Machtolff (ID: 5365) - Fechas vacías: 14 pedidos omitidos\n",
      "Cliente: Miguel Campos (ID: 8462) - Fechas vacías: 3 pedidos omitidos\n",
      "Cliente: Barbara Mueller (ID: 5782) - Fechas vacías: 30 pedidos omitidos\n",
      "Cliente: James Riley (ID: 5430) - Fechas vacías: 171 pedidos omitidos\n",
      "Cliente: Barbara Jannette (ID: 5078) - Fechas vacías: 47 pedidos omitidos\n",
      "Cliente: Robert McNellis (ID: 5814) - Fechas vacías: 79 pedidos omitidos\n",
      "Cliente: Leonard Lightfoot (ID: 5768) - Fechas vacías: 30 pedidos omitidos\n",
      "Cliente: Pam Hadley (ID: 5945) - Fechas vacías: 30 pedidos omitidos\n",
      "Cliente: Francisco George (ID: 5616) - Fechas vacías: 49 pedidos omitidos\n",
      "Cliente: Mohan Nure (ID: 9387) - Fechas vacías: 15 pedidos omitidos\n",
      "Cliente: Elizabeth McDermott (ID: 6177) - Fechas vacías: 31 pedidos omitidos\n",
      "Cliente: Diana Redburn (ID: 9612) - Fechas vacías: 2 pedidos omitidos\n",
      "Cliente: Mark Young (ID: 5946) - Fechas vacías: 51 pedidos omitidos\n",
      "Cliente: Juan Soto (ID: 5464) - Fechas vacías: 76 pedidos omitidos\n",
      "Cliente: Masao Takarada (ID: 23898) - Fechas vacías: 8 pedidos omitidos\n",
      "Cliente: Linda Yount (ID: 5227) - Fechas vacías: 18 pedidos omitidos\n",
      "Cliente: Al Hodgson (ID: 7553) - Fechas vacías: 50 pedidos omitidos\n",
      "Cliente:  Freddy Zambrana (ID: 5463) - Fechas vacías: 112 pedidos omitidos\n",
      "Cliente: Tom Ishimaru (ID: 5446) - Fechas vacías: 29 pedidos omitidos\n",
      "Cliente: Beverley Standing (ID: 6131) - Fechas vacías: 29 pedidos omitidos\n",
      "Cliente: Annette Stevenson (ID: 5280) - Fechas vacías: 51 pedidos omitidos\n",
      "Cliente: Aaron Seville-Douglas (ID: 5701) - Fechas vacías: 28 pedidos omitidos\n",
      "Cliente: Zeferino Heredia (ID: 5776) - Fechas vacías: 59 pedidos omitidos\n",
      "Cliente: Lynne A. Ciotti Parton (ID: 5424) - Fechas vacías: 58 pedidos omitidos\n",
      "Cliente: Samuel Tafolla (ID: 5710) - Fechas vacías: 35 pedidos omitidos\n",
      "Cliente: Randi Piedrahita (ID: 6192) - Fechas vacías: 34 pedidos omitidos\n",
      "Cliente: Cecilia Resendez (ID: 6196) - Fechas vacías: 87 pedidos omitidos\n",
      "Cliente: Roger Handy (ID: 6144) - Fechas vacías: 28 pedidos omitidos\n",
      "Cliente: Anne Jackson (ID: 8091) - Fechas vacías: 10 pedidos omitidos\n",
      "Cliente: Lorraine Irwin (ID: 6194) - Fechas vacías: 61 pedidos omitidos\n",
      "Cliente: Stanley Key (ID: 5808) - Fechas vacías: 29 pedidos omitidos\n",
      "Cliente: Jila Miandoab Maknouni (ID: 5901) - Fechas vacías: 58 pedidos omitidos\n",
      "Cliente: Josh Zimber (ID: 8259) - Fechas vacías: 5 pedidos omitidos\n",
      "Cliente: Blake Coomb (ID: 7639) - Fechas vacías: 9 pedidos omitidos\n",
      "Cliente: Ralph Persky (ID: 9236) - Fechas vacías: 2 pedidos omitidos\n",
      "Cliente: Stephen Klink (ID: 11042) - Fechas vacías: 5 pedidos omitidos\n",
      "Cliente: Joe Corosu (ID: 19096) - Fechas vacías: 2 pedidos omitidos\n",
      "Cliente: Bill Doggett (ID: 10986) - Fechas vacías: 3 pedidos omitidos\n",
      "Cliente: Jorge Soto (ID: 5431) - Fechas vacías: 86 pedidos omitidos\n",
      "Cliente: Juzo Hisaoka (ID: 7901) - Fechas vacías: 14 pedidos omitidos\n",
      "Cliente: Milton Ortega (ID: 701419) - Fechas vacías: 1 pedidos omitidos\n",
      "Cliente: Maria Valenzuela (ID: 8404) - Fechas vacías: 11 pedidos omitidos\n",
      "Cliente: Randy Kemble (ID: 11481) - Fechas vacías: 1 pedidos omitidos\n",
      "Cliente: Paul Freeman (ID: 5972) - Fechas vacías: 5 pedidos omitidos\n",
      "Cliente: Andrew Munana (ID: 11321) - Fechas vacías: 1 pedidos omitidos\n",
      "\n",
      "============================================================\n",
      "💰  ANÁLISIS DE GASTOS 2021\n",
      "============================================================\n",
      "🌟 El cliente con mayor gasto en 2021 fue: Juan Soto\n",
      "🆔 ID de cliente: 5464\n",
      "💸 Total gastado: $56170.00 USD\n",
      "============================================================\n",
      "\n",
      "📝 Ranking de los 5 clientes con mayor gasto en 2021:\n",
      "1. Juan Soto (ID: 5464) - Gasto total: $56170.00 USD\n",
      "2. Brandon Divas (ID: 5172443) - Gasto total: $27990.00 USD\n",
      "3. Christopher Abraham (ID: 5100595) - Gasto total: $22748.00 USD\n",
      "4. Todd Johnson (ID: 5572) - Gasto total: $19236.00 USD\n",
      "5. Scott   McCrorie (ID: 1902406) - Gasto total: $18430.00 USD\n",
      "============================================================\n",
      "✅ ¡Análisis completado con éxito!\n",
      "============================================================\n"
     ]
    }
   ],
   "source": [
    "# Importar bibliotecas necesarias\n",
    "from datetime import datetime\n",
    "from collections import defaultdict\n",
    "\n",
    "# Ruta de los archivos\n",
    "orders_file = \"./sample_data/orders.csv\"\n",
    "customers_file = \"./sample_data/customers.csv\"\n",
    "\n",
    "# Inicializar un diccionario para acumular el gasto de cada cliente en 2021\n",
    "customer_spend = defaultdict(float)\n",
    "\n",
    "# Crear un diccionario para almacenar la relación CustomerID -> Nombre\n",
    "customer_names = {}\n",
    "\n",
    "# Inicializar una lista para almacenar los clientes con fechas vacías\n",
    "clients_with_empty_dates = defaultdict(int)\n",
    "\n",
    "# Leer los datos de customers.csv para obtener los nombres de los clientes\n",
    "with open(customers_file, 'r') as fl:\n",
    "    csvreader = csv.reader(fl, delimiter=',')\n",
    "    header = next(csvreader)\n",
    "\n",
    "    # Identificar el índice de las columnas \"CustomerID\" y \"FirstName\", \"LastName\"\n",
    "    customer_id_index = header.index(\"CustomerID\")\n",
    "    first_name_index = header.index(\"FirstName\")\n",
    "    last_name_index = header.index(\"LastName\")\n",
    "\n",
    "    # Guardar los nombres de los clientes\n",
    "    for row in csvreader:\n",
    "        customer_id = row[customer_id_index]\n",
    "        first_name = row[first_name_index]\n",
    "        last_name = row[last_name_index]\n",
    "        customer_names[customer_id] = f\"{first_name} {last_name}\"\n",
    "\n",
    "# Abrir el archivo de órdenes y procesar los pedidos\n",
    "with open(orders_file, 'r') as fl:\n",
    "    csvreader = csv.reader(fl, delimiter=',')\n",
    "    header = next(csvreader)\n",
    "\n",
    "    # Identificar los índices de las columnas \"CustomerID\", \"Date\" y \"OrderTotal\"\n",
    "    customer_id_index = header.index(\"CustomerID\")\n",
    "    date_index = header.index(\"Date\")\n",
    "    order_total_index = header.index(\"OrderTotal\")\n",
    "\n",
    "    # Filtrar y acumular el gasto de cada cliente en 2021\n",
    "    for row in csvreader:\n",
    "        order_date = row[date_index]\n",
    "        order_total = float(row[order_total_index])\n",
    "        customer_id = row[customer_id_index]\n",
    "\n",
    "        # Verificar si la fecha está vacía\n",
    "        if not order_date:\n",
    "            # Contabilizar los clientes con fechas vacías\n",
    "            clients_with_empty_dates[customer_id] += 1\n",
    "            continue  # Omitir si la fecha está vacía\n",
    "\n",
    "        # Convertir la fecha a un objeto datetime\n",
    "        try:\n",
    "            # Ajusta este formato si es necesario.\n",
    "            order_date_obj = datetime.strptime(order_date, \"%Y-%m-%d %H:%M:%S.%f\")\n",
    "\n",
    "            # Filtrar pedidos solo de 2021\n",
    "            if order_date_obj.year == 2021:\n",
    "                customer_spend[customer_id] += order_total\n",
    "        except ValueError as e:\n",
    "            print(f\"Error al convertir la fecha: {order_date} - Error: {e}\")\n",
    "            continue\n",
    "\n",
    "# Mostrar cuántos clientes tienen fechas vacías\n",
    "if clients_with_empty_dates:\n",
    "    print(f\"\\n❌ Clientes con fechas vacías: {len(clients_with_empty_dates)}\")\n",
    "    for client_id, count in clients_with_empty_dates.items():\n",
    "        client_name = customer_names.get(client_id, \"Desconocido\")\n",
    "        print(f\"Cliente: {client_name} (ID: {client_id}) - Fechas vacías: {count} pedidos omitidos\")\n",
    "\n",
    "# Encontrar el cliente que gastó más en 2021\n",
    "if customer_spend:\n",
    "    max_spend_customer_id = max(customer_spend, key=customer_spend.get)\n",
    "    max_spend_amount = customer_spend[max_spend_customer_id]\n",
    "\n",
    "    # Obtener el nombre del cliente con mayor gasto\n",
    "    max_spend_customer_name = customer_names.get(max_spend_customer_id, \"Desconocido\")\n",
    "\n",
    "    # Mostrar el resultado con formato gráfico\n",
    "    print(\"\\n\" + \"=\" * 60)\n",
    "    print(\"💰  ANÁLISIS DE GASTOS 2021\")\n",
    "    print(\"=\" * 60)\n",
    "    print(f\"🌟 El cliente con mayor gasto en 2021 fue: {max_spend_customer_name}\")\n",
    "    print(f\"🆔 ID de cliente: {max_spend_customer_id}\")\n",
    "    print(f\"💸 Total gastado: ${max_spend_amount:.2f} USD\")\n",
    "    print(\"=\" * 60)\n",
    "\n",
    "    # Crear un ranking de los 5 principales clientes por gasto\n",
    "    print(\"\\n📝 Ranking de los 5 clientes con mayor gasto en 2021:\")\n",
    "    sorted_customers = sorted(customer_spend.items(), key=lambda x: x[1], reverse=True)\n",
    "    for i, (customer_id, spend) in enumerate(sorted_customers[:5]):\n",
    "        customer_name = customer_names.get(customer_id, \"Desconocido\")\n",
    "        print(f\"{i+1}. {customer_name} (ID: {customer_id}) - Gasto total: ${spend:.2f} USD\")\n",
    "\n",
    "    print(\"=\" * 60)\n",
    "    print(\"✅ ¡Análisis completado con éxito!\")\n",
    "    print(\"=\" * 60)\n",
    "else:\n",
    "    print(\"❌ No se encontraron pedidos en 2021.\")\n"
   ]
  },
  {
   "cell_type": "markdown",
   "metadata": {
    "id": "tE77Jhh14rL8"
   },
   "source": [
    "**Pregunta #6:** Históricamente, ¿cuál es el mejor mes para las ventas?"
   ]
  },
  {
   "cell_type": "code",
   "execution_count": 16,
   "metadata": {
    "colab": {
     "base_uri": "https://localhost:8080/"
    },
    "executionInfo": {
     "elapsed": 862,
     "status": "ok",
     "timestamp": 1737746031727,
     "user": {
      "displayName": "Ricardo Tapia",
      "userId": "11226968442119323490"
     },
     "user_tz": 180
    },
    "id": "rbrDTyDJhpVV",
    "outputId": "0e32972c-3c29-49b9-d0a4-72be4bc75f77"
   },
   "outputs": [
    {
     "name": "stdout",
     "output_type": "stream",
     "text": [
      "\n",
      "============================================================\n",
      "📊  ANÁLISIS DE VENTAS HISTÓRICAS\n",
      "============================================================\n",
      "🚀 El mejor mes para las ventas históricas fue el mes 02\n",
      "💵 Promedio de ventas en este mes: $357.33 USD\n",
      "============================================================\n",
      "✅ ¡Análisis completado con éxito!\n",
      "============================================================\n"
     ]
    }
   ],
   "source": [
    "# Importar bibliotecas necesarias\n",
    "from collections import defaultdict\n",
    "from datetime import datetime\n",
    "\n",
    "# Ruta del archivo de órdenes\n",
    "orders_file = \"./sample_data/orders.csv\"\n",
    "\n",
    "# Inicializar diccionarios para contar los pedidos por mes y almacenar las ventas totales por mes\n",
    "monthly_orders = defaultdict(int)\n",
    "monthly_sales = defaultdict(float)\n",
    "\n",
    "# Abrir el archivo CSV y procesar los pedidos\n",
    "with open(orders_file, 'r') as fl:\n",
    "    csvreader = csv.reader(fl, delimiter=',')\n",
    "    header = next(csvreader)\n",
    "\n",
    "    # Identificar los índices de las columnas \"Date\" y \"OrderTotal\"\n",
    "    date_index = header.index(\"Date\")\n",
    "    order_total_index = header.index(\"OrderTotal\")\n",
    "\n",
    "    # Filtrar y contar los pedidos por mes, además de acumular las ventas\n",
    "    for row in csvreader:\n",
    "        order_date = row[date_index]\n",
    "        try:\n",
    "            # Convertir la fecha a un objeto datetime para extraer el mes\n",
    "            order_date_obj = datetime.strptime(order_date, \"%Y-%m-%d %H:%M:%S.%f\")\n",
    "            month_year = order_date_obj.strftime(\"%m\")  # Solo el mes, sin el año\n",
    "            monthly_orders[month_year] += 1\n",
    "\n",
    "            # Agregar las ventas para ese mes (usamos \"OrderTotal\")\n",
    "            sales_amount = float(row[order_total_index]) if row[order_total_index] else 0\n",
    "            monthly_sales[month_year] += sales_amount\n",
    "        except ValueError:\n",
    "            # Manejar posibles errores de formato de fecha\n",
    "            continue\n",
    "\n",
    "# Calcular el promedio de ventas por mes (sin importar el año)\n",
    "monthly_average_sales = {}\n",
    "\n",
    "for month in monthly_sales:\n",
    "    total_sales_for_month = monthly_sales[month]\n",
    "    total_orders_for_month = monthly_orders[month]\n",
    "\n",
    "    if total_orders_for_month > 0:\n",
    "        monthly_average_sales[month] = total_sales_for_month / total_orders_for_month\n",
    "    else:\n",
    "        monthly_average_sales[month] = 0\n",
    "\n",
    "# Sumar los promedios de ventas por mes para encontrar el mejor mes\n",
    "best_month = max(monthly_average_sales, key=monthly_average_sales.get)\n",
    "best_month_value = monthly_average_sales[best_month]\n",
    "\n",
    "# Mostrar el resultado con formato gráfico\n",
    "print(\"\\n\" + \"=\" * 60)\n",
    "print(\"📊  ANÁLISIS DE VENTAS HISTÓRICAS\")\n",
    "print(\"=\" * 60)\n",
    "print(f\"🚀 El mejor mes para las ventas históricas fue el mes {best_month}\")\n",
    "print(f\"💵 Promedio de ventas en este mes: ${best_month_value:.2f} USD\")\n",
    "print(\"=\" * 60)\n",
    "print(\"✅ ¡Análisis completado con éxito!\")\n",
    "print(\"=\" * 60)\n"
   ]
  },
  {
   "cell_type": "markdown",
   "metadata": {
    "id": "nyUybMic3Vc8"
   },
   "source": [
    "# ¡Terminado!\n",
    "\n",
    "Espero que esto no haya sido demasiado difícil y que dividir y segmentar los conjuntos de datos haya sido divertido. Ahora, regrese al curso y brinde las respuestas a las preguntas de este ejercicio."
   ]
  }
 ],
 "metadata": {
  "colab": {
   "provenance": [
    {
     "file_id": "https://github.com/anyoneai/notebooks/blob/main/customers_and_orders/customers_and_orders.ipynb",
     "timestamp": 1737661820508
    }
   ]
  },
  "kernelspec": {
   "display_name": "Python 3",
   "language": "python",
   "name": "python3"
  },
  "language_info": {
   "codemirror_mode": {
    "name": "ipython",
    "version": 3
   },
   "file_extension": ".py",
   "mimetype": "text/x-python",
   "name": "python",
   "nbconvert_exporter": "python",
   "pygments_lexer": "ipython3",
   "version": "3.11.9"
  }
 },
 "nbformat": 4,
 "nbformat_minor": 0
}
